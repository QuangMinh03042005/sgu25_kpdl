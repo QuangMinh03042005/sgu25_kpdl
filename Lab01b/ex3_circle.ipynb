{
 "cells": [
  {
   "cell_type": "markdown",
   "id": "713b9957",
   "metadata": {},
   "source": [
    "# ex3_circle"
   ]
  },
  {
   "cell_type": "markdown",
   "id": "c8715ec7",
   "metadata": {},
   "source": [
    "## Tính chu vi và diện tích hình tròn với bán kính **r** là số thực"
   ]
  },
  {
   "cell_type": "code",
   "execution_count": 2,
   "id": "41310a8c",
   "metadata": {},
   "outputs": [
    {
     "name": "stdout",
     "output_type": "stream",
     "text": [
      "ban kinh r = 3.5 m\n",
      "chu vi:\n",
      "2 * PI * r = 2 * 3.14 * 3.5 = 21.98 m\n",
      "dien tich:\n",
      "PI * r * r = 2 * 3.14 * 12.25 = 38.465 m\n"
     ]
    }
   ],
   "source": [
    "%run ./ex3_circle.py"
   ]
  },
  {
   "cell_type": "markdown",
   "id": "d6d02115",
   "metadata": {},
   "source": [
    "# Kết thúc"
   ]
  }
 ],
 "metadata": {
  "kernelspec": {
   "display_name": "base",
   "language": "python",
   "name": "python3"
  },
  "language_info": {
   "codemirror_mode": {
    "name": "ipython",
    "version": 3
   },
   "file_extension": ".py",
   "mimetype": "text/x-python",
   "name": "python",
   "nbconvert_exporter": "python",
   "pygments_lexer": "ipython3",
   "version": "3.13.5"
  }
 },
 "nbformat": 4,
 "nbformat_minor": 5
}
