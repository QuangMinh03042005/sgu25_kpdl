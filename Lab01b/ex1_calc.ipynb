{
 "cells": [
  {
   "cell_type": "markdown",
   "id": "ce87189e",
   "metadata": {},
   "source": [
    "# ex1_calc"
   ]
  },
  {
   "cell_type": "markdown",
   "id": "27d60aa4",
   "metadata": {},
   "source": [
    "## Chương trình tính toán đơn giản"
   ]
  },
  {
   "cell_type": "code",
   "execution_count": 1,
   "id": "428c6bbf",
   "metadata": {},
   "outputs": [
    {
     "name": "stdout",
     "output_type": "stream",
     "text": [
      "Calculator Basic\n",
      "c = 1 + 2 = 3\n"
     ]
    }
   ],
   "source": [
    "%run ./ex1_calc.py"
   ]
  },
  {
   "cell_type": "markdown",
   "id": "b83d3315",
   "metadata": {},
   "source": [
    "# Kết thúc"
   ]
  }
 ],
 "metadata": {
  "kernelspec": {
   "display_name": "base",
   "language": "python",
   "name": "python3"
  },
  "language_info": {
   "codemirror_mode": {
    "name": "ipython",
    "version": 3
   },
   "file_extension": ".py",
   "mimetype": "text/x-python",
   "name": "python",
   "nbconvert_exporter": "python",
   "pygments_lexer": "ipython3",
   "version": "3.13.5"
  }
 },
 "nbformat": 4,
 "nbformat_minor": 5
}
