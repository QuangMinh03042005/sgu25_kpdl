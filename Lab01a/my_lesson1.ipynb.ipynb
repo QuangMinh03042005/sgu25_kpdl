{
 "cells": [
  {
   "cell_type": "markdown",
   "id": "53b7ef53",
   "metadata": {},
   "source": [
    "# “Thuc hanh tri tue nhan tao Buoi 1”\n",
    "## “Noi dung thuc hanh”"
   ]
  },
  {
   "cell_type": "markdown",
   "id": "ad87b66f",
   "metadata": {},
   "source": [
    "### In chu ra man hinh"
   ]
  },
  {
   "cell_type": "code",
   "execution_count": 1,
   "id": "9c3c5892",
   "metadata": {},
   "outputs": [
    {
     "name": "stdout",
     "output_type": "stream",
     "text": [
      "Hello, Python World!\n"
     ]
    }
   ],
   "source": [
    "# lenh 1 - xuat chu\n",
    "print(\"Hello, Python World!\")"
   ]
  },
  {
   "cell_type": "markdown",
   "id": "8c058efa",
   "metadata": {},
   "source": [
    "# Ket Thuc"
   ]
  }
 ],
 "metadata": {
  "kernelspec": {
   "display_name": "base",
   "language": "python",
   "name": "python3"
  },
  "language_info": {
   "codemirror_mode": {
    "name": "ipython",
    "version": 3
   },
   "file_extension": ".py",
   "mimetype": "text/x-python",
   "name": "python",
   "nbconvert_exporter": "python",
   "pygments_lexer": "ipython3",
   "version": "3.13.5"
  }
 },
 "nbformat": 4,
 "nbformat_minor": 5
}
